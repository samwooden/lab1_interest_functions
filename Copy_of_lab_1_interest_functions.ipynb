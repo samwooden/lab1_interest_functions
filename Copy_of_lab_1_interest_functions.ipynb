{
  "cells": [
    {
      "cell_type": "markdown",
      "metadata": {
        "id": "view-in-github",
        "colab_type": "text"
      },
      "source": [
        "<a href=\"https://colab.research.google.com/github/samwooden/lab1_interest_functions/blob/master/Copy_of_lab_1_interest_functions.ipynb\" target=\"_parent\"><img src=\"https://colab.research.google.com/assets/colab-badge.svg\" alt=\"Open In Colab\"/></a>"
      ]
    },
    {
      "cell_type": "markdown",
      "metadata": {
        "id": "N2uvrS6uraH-"
      },
      "source": [
        "## Lab 1 - Compound Interest Functions\n",
        "\n",
        "Below you will find a table of important formulae related to compound interest.  \n",
        "\n",
        "<img src=\"https://www.dummies.com/wp-content/uploads/251689.image0.jpg\" alt=\"image0.jpg\" width=\"400\" height=\"319\">\n",
        "\n",
        "In this lab, you will create functions for each of these using (and documenting) the following workflow.\n",
        "\n",
        "1. Work out the correct answer for a few examples. *Hint* Search for e.g. \"worked out compound interest examples\" on the web.\n",
        "2. Write a `lambda` function and test this function on your test cases.\n",
        "3. Convert the `lambda` function to a `def` statement with an informative doc string that follows the [Google formating rules](https://google.github.io/styleguide/pyguide.html#383-functions-and-methods).\n",
        "4. Write an automated test function (using your previous examples) that will test your `def` statement function each time the code is executed."
      ]
    },
    {
      "cell_type": "markdown",
      "metadata": {
        "id": "LGyjZ1K7raIA"
      },
      "source": [
        "#### Problem 1 -- Apply the process to create a simple interest functions."
      ]
    },
    {
      "cell_type": "code",
      "execution_count": 71,
      "metadata": {
        "id": "PrO4570FraIB",
        "outputId": "7d7173eb-b1b2-40dd-964d-61d5af4acb28",
        "colab": {
          "base_uri": "https://localhost:8080/"
        }
      },
      "outputs": [
        {
          "output_type": "execute_result",
          "data": {
            "text/plain": [
              "4000.0"
            ]
          },
          "metadata": {},
          "execution_count": 71
        }
      ],
      "source": [
        "\n",
        "r = .2\n",
        "si = lambda P, r, t: P*r*t\n",
        "si(2000, .2, 10)"
      ]
    },
    {
      "cell_type": "code",
      "source": [
        "def si(P,r,t):\n",
        "    \"\"\"Calculates simple interest rates over many years\n",
        "       \n",
        "       Args:\n",
        "           P = principal\n",
        "           r = interest rate\n",
        "           t = time in years\n",
        "           \n",
        "       Returns:\n",
        "           The amount of money after simple interest is taken into account\n",
        "    \"\"\"\n",
        "    output = P*r*t\n",
        "    return output\n",
        "\n",
        "def test_si():\n",
        "    assert si(2000, r, 10) == 4000\n",
        "    assert si(2000, r, 20) == 8000\n",
        "    assert si(2000, r, 30) == 12000\n",
        "\n",
        "test_si()  "
      ],
      "metadata": {
        "id": "0Po703qDEZf2"
      },
      "execution_count": 72,
      "outputs": []
    },
    {
      "cell_type": "markdown",
      "metadata": {
        "id": "VLgPolWkraIC"
      },
      "source": [
        "#### Problem 2 -- Apply the process to create a compound interest functions."
      ]
    },
    {
      "cell_type": "code",
      "execution_count": 73,
      "metadata": {
        "id": "VVBAn7dnraIC",
        "outputId": "10c520c8-711e-4b04-a075-f0815d079005",
        "colab": {
          "base_uri": "https://localhost:8080/"
        }
      },
      "outputs": [
        {
          "output_type": "execute_result",
          "data": {
            "text/plain": [
              "37890.509321770696"
            ]
          },
          "metadata": {},
          "execution_count": 73
        }
      ],
      "source": [
        "r = .2\n",
        "ci = lambda P, r, n, t: P*pow(1+r/n, n*t)\n",
        "ci(2000, r, 5, 15)"
      ]
    },
    {
      "cell_type": "code",
      "source": [
        "# define a function for calculating\n",
        "# compund interest\n",
        "def ci(P, r, n, t):\n",
        "    \"\"\"Calculates compounded interest rates over many years\n",
        "       \n",
        "       Args:\n",
        "           P = principal\n",
        "           r = rate\n",
        "           n = compoundings\n",
        "           t = years\n",
        "           \n",
        "       Returns:\n",
        "           The amount of money after compounded interest is taken into account\n",
        "    \"\"\"\n",
        "    output = P*pow(1+r/n, n*t)\n",
        "    return output\n",
        "\n",
        "def test_ci():\n",
        "    assert ci(2000, r, 5, 15) == 37890.509321770696\n",
        "    \n",
        "test_ci()"
      ],
      "metadata": {
        "id": "aL_5cNMxTHzp"
      },
      "execution_count": 74,
      "outputs": []
    },
    {
      "cell_type": "code",
      "source": [
        "r = .2\n",
        "er = lambda r, n: pow(1+r/n,n)-1\n",
        "er(r, 2000)"
      ],
      "metadata": {
        "colab": {
          "base_uri": "https://localhost:8080/"
        },
        "id": "Z6T4GtTl97es",
        "outputId": "50844ab6-3a24-4daf-a21f-d9717e06a6ea"
      },
      "execution_count": 75,
      "outputs": [
        {
          "output_type": "execute_result",
          "data": {
            "text/plain": [
              "0.22139054500783062"
            ]
          },
          "metadata": {},
          "execution_count": 75
        }
      ]
    },
    {
      "cell_type": "code",
      "source": [
        "# define a function for calculating\n",
        "# effective rate\n",
        "def er(r, n):\n",
        "    \"\"\"Calculates effective interest rates over many years\n",
        "       \n",
        "       Args:\n",
        "           r = interest rate\n",
        "           n = compoundings\n",
        "           \n",
        "       Returns:\n",
        "           The amount of money after effective interest rates are taken into account\n",
        "    \"\"\"\n",
        "    output = pow(1+r/n,n)-1\n",
        "    return output\n",
        "\n",
        "def test_er():\n",
        "    assert er(r, 2000) == 0.22139054500783062\n",
        "    \n",
        "test_er()"
      ],
      "metadata": {
        "id": "9tNyYpej_TOM"
      },
      "execution_count": 76,
      "outputs": []
    },
    {
      "cell_type": "markdown",
      "metadata": {
        "id": "PgCdm24IraID"
      },
      "source": [
        "#### Problem 3 -- Apply the process to create a amortized loan payment function."
      ]
    },
    {
      "cell_type": "code",
      "source": [
        "r = .2\n",
        "alp = lambda P, r, n: (P*r)/(1-pow(1+r, -n))\n",
        "alp(2000, r, 10)\n"
      ],
      "metadata": {
        "id": "1c54s-B_V3Zk",
        "colab": {
          "base_uri": "https://localhost:8080/"
        },
        "outputId": "59a64db2-77e7-478f-bc33-e7144c42a1b5"
      },
      "execution_count": 77,
      "outputs": [
        {
          "output_type": "execute_result",
          "data": {
            "text/plain": [
              "477.0455137657182"
            ]
          },
          "metadata": {},
          "execution_count": 77
        }
      ]
    },
    {
      "cell_type": "code",
      "source": [
        "# define a function for calculating\n",
        "# amortized loan payments\n",
        "def alp(P, r, n):\n",
        "  \"\"\"Calculates amortized loan payments\n",
        "\n",
        "     Args: \n",
        "        P = amount borrowed\n",
        "        r = interest rate per period\n",
        "        n = number of payments\n",
        "\n",
        "     Returns: \n",
        "        The amortized loan payment based on the amount borrowed, rate, amount of time, and number of payment\n",
        "  \"\"\"      \n",
        "  output = (P*r)/(1-pow(1+r, -n))\n",
        "  return output\n",
        "\n",
        "def test_alp():  \n",
        "    assert alp(2000, r, 10) == 477.0455137657182\n",
        "\n",
        "test_alp()"
      ],
      "metadata": {
        "id": "RMEJwaoEfYmQ"
      },
      "execution_count": 78,
      "outputs": []
    },
    {
      "cell_type": "markdown",
      "metadata": {
        "id": "U1YiksN7raID"
      },
      "source": [
        "#### Problem 4 -- Apply the process to create a remaining balance function"
      ]
    },
    {
      "cell_type": "code",
      "execution_count": 79,
      "metadata": {
        "id": "fJj4LtqxraID"
      },
      "outputs": [],
      "source": [
        "r = .2\n",
        "rb = lambda P, r, n, x: P*(1-pow(1+r, -(n-x))/r)\n",
        "rb = (2000, r, 25, 5)"
      ]
    },
    {
      "cell_type": "code",
      "source": [
        "def rb(P, r, n, x):\n",
        "  \"\"\"Calculates remaining balance\n",
        "\n",
        "     Args: \n",
        "        P = regular payment\n",
        "        r = interest rate per period\n",
        "        n = number of payments\n",
        "        x = number of payments already made\n",
        "\n",
        "     Returns: \n",
        "        The remaining balance based on regular payment, interest rate per period, number of payments, and number rof payments already made\n",
        "  \"\"\"      \n",
        "  output = P*(1-pow(1+r, -(n-x))/r)\n",
        "  return output\n",
        "\n",
        "  def test_rb():  \n",
        "    assert rb(2000, r, 25, 5) == 0\n",
        "\n",
        "  test_rb()"
      ],
      "metadata": {
        "id": "AoS8ywCSE1l_"
      },
      "execution_count": 80,
      "outputs": []
    }
  ],
  "metadata": {
    "kernelspec": {
      "display_name": "Python 3",
      "language": "python",
      "name": "python3"
    },
    "language_info": {
      "codemirror_mode": {
        "name": "ipython",
        "version": 3
      },
      "file_extension": ".py",
      "mimetype": "text/x-python",
      "name": "python",
      "nbconvert_exporter": "python",
      "pygments_lexer": "ipython3",
      "version": "3.7.2"
    },
    "colab": {
      "provenance": [],
      "name": "Copy of lab_1_interest_functions.ipynb",
      "include_colab_link": true
    }
  },
  "nbformat": 4,
  "nbformat_minor": 0
}